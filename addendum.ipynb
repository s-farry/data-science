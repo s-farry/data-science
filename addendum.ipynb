{
    "cells": [
        {
            "cell_type": "markdown",
            "source": [
                "# Addendum\n",
                "\n",
                "It turns out there's a much simpler way of determining the interest rate by just calculating it from the available variables in the dataset!"
            ],
            "metadata": {}
        },
        {
            "cell_type": "markdown",
            "source": [
                "First some standard imports"
            ],
            "metadata": {}
        },
        {
            "cell_type": "code",
            "execution_count": 1,
            "source": [
                "#pandas, numpy and math for managing and manipulating our data\n",
                "import pandas as pd\n",
                "import numpy as np\n",
                "import math\n",
                "\n",
                "#matplotlib for data visualisation\n",
                "import matplotlib\n",
                "import matplotlib.pyplot as plt"
            ],
            "outputs": [],
            "metadata": {}
        },
        {
            "cell_type": "markdown",
            "source": [
                "First I load the dataset and then drop any duplicates there might be. The customer ID is set to be the index or unique identifier of the dataset"
            ],
            "metadata": {}
        },
        {
            "cell_type": "code",
            "execution_count": 2,
            "source": [
                "dataframe = pd.read_csv('DataScienceAssignment/DataScienceAssignment.csv')\n",
                "dataframe.drop_duplicates(inplace=True)\n",
                "dataframe.set_index('id',inplace=True)"
            ],
            "outputs": [],
            "metadata": {}
        },
        {
            "cell_type": "markdown",
            "source": [
                "THe problem turns out to be incredibly straightforward because monthly payments can be calculated using the formula\n",
                "\n",
                "$A = P\\frac{r(1+r)^n}{(1+r)^n - 1}$\n",
                "\n",
                "Where $A$ is the monthly payment, $P$ is the loan amount, $r$ is the interest per month (int_rate / 12) and n is the total number of payments ( 36 or 60) and so all the information is already in the dataframe."
            ],
            "metadata": {}
        },
        {
            "cell_type": "code",
            "execution_count": 3,
            "source": [
                "# add a new columns with the number of months as a numeric\n",
                "dataframe['nmths'] = np.where(dataframe.term == ' 36 months', 36, 60 )\n",
                "\n",
                "#the total amount that will be paid over the coruse of the loan\n",
                "dataframe['payment_total'] = dataframe.nmths * dataframe.installment\n",
                "\n",
                "# drop any entries where the total payment is actually less than the funded amounts as this doesn't make sense\n",
                "dataframe.drop(dataframe[dataframe.payment_total < dataframe.funded_amnt ].index, inplace=True)\n",
                "\n",
                "# calculate the monthly amount (this is just for sanity checking)\n",
                "dataframe['monthly_amount'] = dataframe.funded_amnt * ( (0.01 * dataframe.int_rate/12.0) * np.power( 1 + (0.01 * dataframe.int_rate/12.0), dataframe.nmths )) / ( np.power(1 + (0.01 * dataframe.int_rate/12.0), dataframe.nmths) -1 )\n",
                "\n",
                "#there is enough information here now to just calculate the rate from the number of installments, the loan amounts, and the installment amounts\n",
                "# however trying to solve for r in the above formula can only be done numerically, but luckily there is a function in numpy financial to do this!\n",
                "import numpy_financial as npf\n",
                "dataframe['interest_rate_calc'] = npf.rate(dataframe.nmths, -dataframe.installment, dataframe.funded_amnt, 0) * 12.0 * 100.0\n",
                "\n",
                "\n"
            ],
            "outputs": [],
            "metadata": {}
        },
        {
            "cell_type": "markdown",
            "source": [
                "Now I'll just make a scatter plot to show how nicely these line up. There are a handful of outliers, these look like mistakes in the data entry. I could remove them as I did above but it's really only superficial as we're not \"training\" our model."
            ],
            "metadata": {}
        },
        {
            "cell_type": "code",
            "execution_count": 1,
            "source": [
                "fig,ax1 = plt.subplots()\n",
                "ax1.plot([0, 35], [0, 35], linestyle='--', color='red')\n",
                "ax1.scatter(dataframe['int_rate'], dataframe['interest_rate_calc'], color='blue', alpha=0.2)\n",
                "ax1.set_xlabel('True Interest Rate')\n",
                "ax1.set_ylabel('Calculated Interest Rate')\n",
                "\n",
                "plt.show()"
            ],
            "outputs": [
                {
                    "output_type": "error",
                    "ename": "NameError",
                    "evalue": "name 'plt' is not defined",
                    "traceback": [
                        "\u001b[0;31m---------------------------------------------------------------------------\u001b[0m",
                        "\u001b[0;31mNameError\u001b[0m                                 Traceback (most recent call last)",
                        "\u001b[0;32m/var/folders/fm/7kk9sytx7yjbjpt61hp5lwj00000gn/T/ipykernel_12582/2263009230.py\u001b[0m in \u001b[0;36m<module>\u001b[0;34m\u001b[0m\n\u001b[0;32m----> 1\u001b[0;31m \u001b[0mfig\u001b[0m\u001b[0;34m,\u001b[0m\u001b[0max1\u001b[0m \u001b[0;34m=\u001b[0m \u001b[0mplt\u001b[0m\u001b[0;34m.\u001b[0m\u001b[0msubplots\u001b[0m\u001b[0;34m(\u001b[0m\u001b[0;34m)\u001b[0m\u001b[0;34m\u001b[0m\u001b[0;34m\u001b[0m\u001b[0m\n\u001b[0m\u001b[1;32m      2\u001b[0m \u001b[0max1\u001b[0m\u001b[0;34m.\u001b[0m\u001b[0mplot\u001b[0m\u001b[0;34m(\u001b[0m\u001b[0;34m[\u001b[0m\u001b[0;36m0\u001b[0m\u001b[0;34m,\u001b[0m \u001b[0;36m35\u001b[0m\u001b[0;34m]\u001b[0m\u001b[0;34m,\u001b[0m \u001b[0;34m[\u001b[0m\u001b[0;36m0\u001b[0m\u001b[0;34m,\u001b[0m \u001b[0;36m35\u001b[0m\u001b[0;34m]\u001b[0m\u001b[0;34m,\u001b[0m \u001b[0mlinestyle\u001b[0m\u001b[0;34m=\u001b[0m\u001b[0;34m'--'\u001b[0m\u001b[0;34m,\u001b[0m \u001b[0mcolor\u001b[0m\u001b[0;34m=\u001b[0m\u001b[0;34m'red'\u001b[0m\u001b[0;34m)\u001b[0m\u001b[0;34m\u001b[0m\u001b[0;34m\u001b[0m\u001b[0m\n\u001b[1;32m      3\u001b[0m \u001b[0max1\u001b[0m\u001b[0;34m.\u001b[0m\u001b[0mscatter\u001b[0m\u001b[0;34m(\u001b[0m\u001b[0mdataframe\u001b[0m\u001b[0;34m[\u001b[0m\u001b[0;34m'int_rate'\u001b[0m\u001b[0;34m]\u001b[0m\u001b[0;34m,\u001b[0m \u001b[0mdataframe\u001b[0m\u001b[0;34m[\u001b[0m\u001b[0;34m'interest_rate_calc'\u001b[0m\u001b[0;34m]\u001b[0m\u001b[0;34m,\u001b[0m \u001b[0mcolor\u001b[0m\u001b[0;34m=\u001b[0m\u001b[0;34m'blue'\u001b[0m\u001b[0;34m,\u001b[0m \u001b[0malpha\u001b[0m\u001b[0;34m=\u001b[0m\u001b[0;36m0.2\u001b[0m\u001b[0;34m)\u001b[0m\u001b[0;34m\u001b[0m\u001b[0;34m\u001b[0m\u001b[0m\n\u001b[1;32m      4\u001b[0m \u001b[0max1\u001b[0m\u001b[0;34m.\u001b[0m\u001b[0mset_xlabel\u001b[0m\u001b[0;34m(\u001b[0m\u001b[0;34m'True Interest Rate'\u001b[0m\u001b[0;34m)\u001b[0m\u001b[0;34m\u001b[0m\u001b[0;34m\u001b[0m\u001b[0m\n\u001b[1;32m      5\u001b[0m \u001b[0max1\u001b[0m\u001b[0;34m.\u001b[0m\u001b[0mset_ylabel\u001b[0m\u001b[0;34m(\u001b[0m\u001b[0;34m'Calculated Interest Rate'\u001b[0m\u001b[0;34m)\u001b[0m\u001b[0;34m\u001b[0m\u001b[0;34m\u001b[0m\u001b[0m\n",
                        "\u001b[0;31mNameError\u001b[0m: name 'plt' is not defined"
                    ]
                }
            ],
            "metadata": {}
        },
        {
            "cell_type": "markdown",
            "source": [
                "Calculate a score for good to measure to compare!"
            ],
            "metadata": {}
        },
        {
            "cell_type": "code",
            "execution_count": 5,
            "source": [
                "X = dataframe['interest_rate_calc']\n",
                "y = dataframe['int_rate']\n",
                "\n",
                "print(\"root mean squared error  : %.3f\" % math.sqrt((np.power(X - y,2)).mean()))"
            ],
            "outputs": [
                {
                    "output_type": "stream",
                    "name": "stdout",
                    "text": [
                        "root mean squared error  : 0.042\n"
                    ]
                }
            ],
            "metadata": {}
        },
        {
            "cell_type": "markdown",
            "source": [
                "Better than best results from before using 3 instead of O(2k) features, clearly thinking about the problem is the best solution!"
            ],
            "metadata": {}
        },
        {
            "cell_type": "markdown",
            "source": [
                "Output new predictions for the test set."
            ],
            "metadata": {}
        },
        {
            "cell_type": "code",
            "execution_count": 6,
            "source": [
                "dataframe_test = pd.read_csv('DataScienceAssignment/DataScienceAssignment_test.csv')\n",
                "dataframe_test.drop_duplicates(inplace=True)\n",
                "dataframe_test.set_index('id',inplace=True)\n",
                "dataframe_test['nmths'] = np.where(dataframe_test.term == ' 36 months', 36, 60 )\n",
                "\n",
                "test_predictions = npf.rate(dataframe_test.nmths, -dataframe_test.installment, dataframe_test.funded_amnt, 0) * 12.0 * 100.0\n",
                "\n",
                "final_test_preds = pd.DataFrame.from_dict({'id' : dataframe_test.index, 'int_rate' : test_predictions})\n",
                "final_test_preds.to_csv('DataScienceAssignment/DataScienceAssignment_test_predictions_new.csv')"
            ],
            "outputs": [],
            "metadata": {}
        }
    ],
    "metadata": {
        "orig_nbformat": 4,
        "language_info": {
            "name": "python",
            "version": "3.9.5",
            "mimetype": "text/x-python",
            "codemirror_mode": {
                "name": "ipython",
                "version": 3
            },
            "pygments_lexer": "ipython3",
            "nbconvert_exporter": "python",
            "file_extension": ".py"
        },
        "kernelspec": {
            "name": "python3",
            "display_name": "Python 3.9.5 64-bit"
        },
        "interpreter": {
            "hash": "aee8b7b246df8f9039afb4144a1f6fd8d2ca17a180786b69acc140d282b71a49"
        }
    },
    "nbformat": 4,
    "nbformat_minor": 2
}